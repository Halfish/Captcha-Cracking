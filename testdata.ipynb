{
 "cells": [
  {
   "cell_type": "code",
   "execution_count": 1,
   "metadata": {
    "collapsed": false
   },
   "outputs": [
    {
     "data": {
      "text/plain": [
       "size is: \t"
      ]
     },
     "execution_count": 1,
     "metadata": {},
     "output_type": "execute_result"
    },
    {
     "data": {
      "text/plain": [
       "291000\t\n",
       "\t\n",
       "data:\t 291000\n",
       "      1\n",
       "     40\n",
       "     22\n",
       "[torch.LongStorage of size 4]\n",
       "\n",
       "label:\t 291000\n",
       "[torch.LongStorage of size 1]\n",
       "\n"
      ]
     },
     "execution_count": 1,
     "metadata": {},
     "output_type": "execute_result"
    }
   ],
   "source": [
    "fullset = torch.load('./src/large-type10-200.dat')\n",
    "print('size is: ', fullset.size, '\\n')\n",
    "print('data:', #fullset.data)\n",
    "print('label:', #fullset.label)"
   ]
  },
  {
   "cell_type": "code",
   "execution_count": 3,
   "metadata": {
    "collapsed": false
   },
   "outputs": [
    {
     "data": {
      "text/plain": [
       "肆\t\n"
      ]
     },
     "execution_count": 3,
     "metadata": {},
     "output_type": "execute_result"
    },
    {
     "data": {
      "image/png": "[encoded data removed]",
      "text/plain": [
       "Console does not support images"
      ]
     },
     "metadata": {
      "image/png": {
       "height": 40,
       "width": 22
      }
     },
     "output_type": "display_data"
    },
    {
     "data": {
      "text/plain": [
       "梦\t\n"
      ]
     },
     "execution_count": 3,
     "metadata": {},
     "output_type": "execute_result"
    },
    {
     "data": {
      "image/png": "[encoded data removed]",
      "text/plain": [
       "Console does not support images"
      ]
     },
     "metadata": {
      "image/png": {
       "height": 40,
       "width": 22
      }
     },
     "output_type": "display_data"
    },
    {
     "data": {
      "text/plain": [
       "化\t\n"
      ]
     },
     "execution_count": 3,
     "metadata": {},
     "output_type": "execute_result"
    },
    {
     "data": {
      "image/png": "[encoded data removed]",
      "text/plain": [
       "Console does not support images"
      ]
     },
     "metadata": {
      "image/png": {
       "height": 40,
       "width": 22
      }
     },
     "output_type": "display_data"
    },
    {
     "data": {
      "text/plain": [
       "佛\t\n"
      ]
     },
     "execution_count": 3,
     "metadata": {},
     "output_type": "execute_result"
    },
    {
     "data": {
      "image/png": "[encoded data removed]",
      "text/plain": [
       "Console does not support images"
      ]
     },
     "metadata": {
      "image/png": {
       "height": 40,
       "width": 22
      }
     },
     "output_type": "display_data"
    },
    {
     "data": {
      "text/plain": [
       "丛\t\n"
      ]
     },
     "execution_count": 3,
     "metadata": {},
     "output_type": "execute_result"
    },
    {
     "data": {
      "image/png": "[encoded data removed]",
      "text/plain": [
       "Console does not support images"
      ]
     },
     "metadata": {
      "image/png": {
       "height": 40,
       "width": 22
      }
     },
     "output_type": "display_data"
    },
    {
     "data": {
      "text/plain": [
       "厌\t\n"
      ]
     },
     "execution_count": 3,
     "metadata": {},
     "output_type": "execute_result"
    },
    {
     "data": {
      "image/png": "[encoded data removed]",
      "text/plain": [
       "Console does not support images"
      ]
     },
     "metadata": {
      "image/png": {
       "height": 40,
       "width": 22
      }
     },
     "output_type": "display_data"
    },
    {
     "data": {
      "text/plain": [
       "喧\t\n"
      ]
     },
     "execution_count": 3,
     "metadata": {},
     "output_type": "execute_result"
    },
    {
     "data": {
      "image/png": "[encoded data removed]",
      "text/plain": [
       "Console does not support images"
      ]
     },
     "metadata": {
      "image/png": {
       "height": 40,
       "width": 22
      }
     },
     "output_type": "display_data"
    },
    {
     "data": {
      "text/plain": [
       "闭\t\n"
      ]
     },
     "execution_count": 3,
     "metadata": {},
     "output_type": "execute_result"
    },
    {
     "data": {
      "image/png": "[encoded data removed]",
      "text/plain": [
       "Console does not support images"
      ]
     },
     "metadata": {
      "image/png": {
       "height": 40,
       "width": 22
      }
     },
     "output_type": "display_data"
    },
    {
     "data": {
      "text/plain": [
       "崇\t\n"
      ]
     },
     "execution_count": 3,
     "metadata": {},
     "output_type": "execute_result"
    },
    {
     "data": {
      "image/png": "[encoded data removed]",
      "text/plain": [
       "Console does not support images"
      ]
     },
     "metadata": {
      "image/png": {
       "height": 40,
       "width": 22
      }
     },
     "output_type": "display_data"
    },
    {
     "data": {
      "text/plain": [
       "盈\t\n"
      ]
     },
     "execution_count": 3,
     "metadata": {},
     "output_type": "execute_result"
    },
    {
     "data": {
      "image/png": "[encoded data removed]",
      "text/plain": [
       "Console does not support images"
      ]
     },
     "metadata": {
      "image/png": {
       "height": 40,
       "width": 22
      }
     },
     "output_type": "display_data"
    },
    {
     "data": {
      "text/plain": [
       "鹄\t\n"
      ]
     },
     "execution_count": 3,
     "metadata": {},
     "output_type": "execute_result"
    },
    {
     "data": {
      "image/png": "[encoded data removed]",
      "text/plain": [
       "Console does not support images"
      ]
     },
     "metadata": {
      "image/png": {
       "height": 40,
       "width": 22
      }
     },
     "output_type": "display_data"
    },
    {
     "data": {
      "text/plain": [
       "礼\t\n"
      ]
     },
     "execution_count": 3,
     "metadata": {},
     "output_type": "execute_result"
    },
    {
     "data": {
      "image/png": "[encoded data removed]",
      "text/plain": [
       "Console does not support images"
      ]
     },
     "metadata": {
      "image/png": {
       "height": 40,
       "width": 22
      }
     },
     "output_type": "display_data"
    },
    {
     "data": {
      "text/plain": [
       "特\t\n"
      ]
     },
     "execution_count": 3,
     "metadata": {},
     "output_type": "execute_result"
    },
    {
     "data": {
      "image/png": "[encoded data removed]",
      "text/plain": [
       "Console does not support images"
      ]
     },
     "metadata": {
      "image/png": {
       "height": 40,
       "width": 22
      }
     },
     "output_type": "display_data"
    },
    {
     "data": {
      "text/plain": [
       "墙\t\n"
      ]
     },
     "execution_count": 3,
     "metadata": {},
     "output_type": "execute_result"
    },
    {
     "data": {
      "image/png": "[encoded data removed]",
      "text/plain": [
       "Console does not support images"
      ]
     },
     "metadata": {
      "image/png": {
       "height": 40,
       "width": 22
      }
     },
     "output_type": "display_data"
    },
    {
     "data": {
      "text/plain": [
       "侧\t\n"
      ]
     },
     "execution_count": 3,
     "metadata": {},
     "output_type": "execute_result"
    },
    {
     "data": {
      "image/png": "[encoded data removed]",
      "text/plain": [
       "Console does not support images"
      ]
     },
     "metadata": {
      "image/png": {
       "height": 40,
       "width": 22
      }
     },
     "output_type": "display_data"
    },
    {
     "data": {
      "text/plain": [
       "疾\t"
      ]
     },
     "execution_count": 3,
     "metadata": {},
     "output_type": "execute_result"
    },
    {
     "data": {
      "text/plain": [
       "\n"
      ]
     },
     "execution_count": 3,
     "metadata": {},
     "output_type": "execute_result"
    },
    {
     "data": {
      "image/png": "[encoded data removed]",
      "text/plain": [
       "Console does not support images"
      ]
     },
     "metadata": {
      "image/png": {
       "height": 40,
       "width": 22
      }
     },
     "output_type": "display_data"
    },
    {
     "data": {
      "text/plain": [
       "拭\t\n"
      ]
     },
     "execution_count": 3,
     "metadata": {},
     "output_type": "execute_result"
    },
    {
     "data": {
      "image/png": "[encoded data removed]",
      "text/plain": [
       "Console does not support images"
      ]
     },
     "metadata": {
      "image/png": {
       "height": 40,
       "width": 22
      }
     },
     "output_type": "display_data"
    },
    {
     "data": {
      "text/plain": [
       "工\t\n"
      ]
     },
     "execution_count": 3,
     "metadata": {},
     "output_type": "execute_result"
    },
    {
     "data": {
      "image/png": "[encoded data removed]",
      "text/plain": [
       "Console does not support images"
      ]
     },
     "metadata": {
      "image/png": {
       "height": 40,
       "width": 22
      }
     },
     "output_type": "display_data"
    },
    {
     "data": {
      "text/plain": [
       "醒\t\n"
      ]
     },
     "execution_count": 3,
     "metadata": {},
     "output_type": "execute_result"
    },
    {
     "data": {
      "image/png": "[encoded data removed]",
      "text/plain": [
       "Console does not support images"
      ]
     },
     "metadata": {
      "image/png": {
       "height": 40,
       "width": 22
      }
     },
     "output_type": "display_data"
    },
    {
     "data": {
      "text/plain": [
       "别\t\n"
      ]
     },
     "execution_count": 3,
     "metadata": {},
     "output_type": "execute_result"
    },
    {
     "data": {
      "image/png": "[encoded data removed]",
      "text/plain": [
       "Console does not support images"
      ]
     },
     "metadata": {
      "image/png": {
       "height": 40,
       "width": 22
      }
     },
     "output_type": "display_data"
    },
    {
     "data": {
      "text/plain": [
       "诵\t\n"
      ]
     },
     "execution_count": 3,
     "metadata": {},
     "output_type": "execute_result"
    },
    {
     "data": {
      "image/png": "[encoded data removed]",
      "text/plain": [
       "Console does not support images"
      ]
     },
     "metadata": {
      "image/png": {
       "height": 40,
       "width": 22
      }
     },
     "output_type": "display_data"
    },
    {
     "data": {
      "text/plain": [
       "逆\t\n"
      ]
     },
     "execution_count": 3,
     "metadata": {},
     "output_type": "execute_result"
    },
    {
     "data": {
      "image/png": "[encoded data removed]",
      "text/plain": [
       "Console does not support images"
      ]
     },
     "metadata": {
      "image/png": {
       "height": 40,
       "width": 22
      }
     },
     "output_type": "display_data"
    },
    {
     "data": {
      "text/plain": [
       "善\t\n"
      ]
     },
     "execution_count": 3,
     "metadata": {},
     "output_type": "execute_result"
    },
    {
     "data": {
      "image/png": "[encoded data removed]",
      "text/plain": [
       "Console does not support images"
      ]
     },
     "metadata": {
      "image/png": {
       "height": 40,
       "width": 22
      }
     },
     "output_type": "display_data"
    },
    {
     "data": {
      "text/plain": [
       "寸\t\n"
      ]
     },
     "execution_count": 3,
     "metadata": {},
     "output_type": "execute_result"
    },
    {
     "data": {
      "image/png": "[encoded data removed]",
      "text/plain": [
       "Console does not support images"
      ]
     },
     "metadata": {
      "image/png": {
       "height": 40,
       "width": 22
      }
     },
     "output_type": "display_data"
    },
    {
     "data": {
      "text/plain": [
       "浮\t\n"
      ]
     },
     "execution_count": 3,
     "metadata": {},
     "output_type": "execute_result"
    },
    {
     "data": {
      "image/png": "[encoded data removed]",
      "text/plain": [
       "Console does not support images"
      ]
     },
     "metadata": {
      "image/png": {
       "height": 40,
       "width": 22
      }
     },
     "output_type": "display_data"
    },
    {
     "data": {
      "text/plain": [
       "动\t\n"
      ]
     },
     "execution_count": 3,
     "metadata": {},
     "output_type": "execute_result"
    },
    {
     "data": {
      "image/png": "[encoded data removed]",
      "text/plain": [
       "Console does not support images"
      ]
     },
     "metadata": {
      "image/png": {
       "height": 40,
       "width": 22
      }
     },
     "output_type": "display_data"
    },
    {
     "data": {
      "text/plain": [
       "亡\t\n"
      ]
     },
     "execution_count": 3,
     "metadata": {},
     "output_type": "execute_result"
    },
    {
     "data": {
      "image/png": "[encoded data removed]",
      "text/plain": [
       "Console does not support images"
      ]
     },
     "metadata": {
      "image/png": {
       "height": 40,
       "width": 22
      }
     },
     "output_type": "display_data"
    },
    {
     "data": {
      "text/plain": [
       "持\t\n"
      ]
     },
     "execution_count": 3,
     "metadata": {},
     "output_type": "execute_result"
    },
    {
     "data": {
      "image/png": "[encoded data removed]",
      "text/plain": [
       "Console does not support images"
      ]
     },
     "metadata": {
      "image/png": {
       "height": 40,
       "width": 22
      }
     },
     "output_type": "display_data"
    },
    {
     "data": {
      "text/plain": [
       "炊\t\n"
      ]
     },
     "execution_count": 3,
     "metadata": {},
     "output_type": "execute_result"
    },
    {
     "data": {
      "image/png": "[encoded data removed]",
      "text/plain": [
       "Console does not support images"
      ]
     },
     "metadata": {
      "image/png": {
       "height": 40,
       "width": 22
      }
     },
     "output_type": "display_data"
    },
    {
     "data": {
      "text/plain": [
       "臂\t\n"
      ]
     },
     "execution_count": 3,
     "metadata": {},
     "output_type": "execute_result"
    },
    {
     "data": {
      "image/png": "[encoded data removed]",
      "text/plain": [
       "Console does not support images"
      ]
     },
     "metadata": {
      "image/png": {
       "height": 40,
       "width": 22
      }
     },
     "output_type": "display_data"
    },
    {
     "data": {
      "text/plain": [
       "亮\t\n"
      ]
     },
     "execution_count": 3,
     "metadata": {},
     "output_type": "execute_result"
    },
    {
     "data": {
      "image/png": "[encoded data removed]",
      "text/plain": [
       "Console does not support images"
      ]
     },
     "metadata": {
      "image/png": {
       "height": 40,
       "width": 22
      }
     },
     "output_type": "display_data"
    },
    {
     "data": {
      "text/plain": [
       "皓\t\n"
      ]
     },
     "execution_count": 3,
     "metadata": {},
     "output_type": "execute_result"
    },
    {
     "data": {
      "image/png": "[encoded data removed]",
      "text/plain": [
       "Console does not support images"
      ]
     },
     "metadata": {
      "image/png": {
       "height": 40,
       "width": 22
      }
     },
     "output_type": "display_data"
    },
    {
     "data": {
      "text/plain": [
       "忘\t\n"
      ]
     },
     "execution_count": 3,
     "metadata": {},
     "output_type": "execute_result"
    },
    {
     "data": {
      "image/png": "[encoded data removed]",
      "text/plain": [
       "Console does not support images"
      ]
     },
     "metadata": {
      "image/png": {
       "height": 40,
       "width": 22
      }
     },
     "output_type": "display_data"
    },
    {
     "data": {
      "text/plain": [
       "峭\t\n"
      ]
     },
     "execution_count": 3,
     "metadata": {},
     "output_type": "execute_result"
    },
    {
     "data": {
      "image/png": "[encoded data removed]",
      "text/plain": [
       "Console does not support images"
      ]
     },
     "metadata": {
      "image/png": {
       "height": 40,
       "width": 22
      }
     },
     "output_type": "display_data"
    },
    {
     "data": {
      "text/plain": [
       "呼\t\n"
      ]
     },
     "execution_count": 3,
     "metadata": {},
     "output_type": "execute_result"
    },
    {
     "data": {
      "image/png": "[encoded data removed]",
      "text/plain": [
       "Console does not support images"
      ]
     },
     "metadata": {
      "image/png": {
       "height": 40,
       "width": 22
      }
     },
     "output_type": "display_data"
    },
    {
     "data": {
      "text/plain": [
       "褐\t\n"
      ]
     },
     "execution_count": 3,
     "metadata": {},
     "output_type": "execute_result"
    },
    {
     "data": {
      "image/png": "[encoded data removed]",
      "text/plain": [
       "Console does not support images"
      ]
     },
     "metadata": {
      "image/png": {
       "height": 40,
       "width": 22
      }
     },
     "output_type": "display_data"
    },
    {
     "data": {
      "text/plain": [
       "力\t\n"
      ]
     },
     "execution_count": 3,
     "metadata": {},
     "output_type": "execute_result"
    },
    {
     "data": {
      "image/png": "[encoded data removed]",
      "text/plain": [
       "Console does not support images"
      ]
     },
     "metadata": {
      "image/png": {
       "height": 40,
       "width": 22
      }
     },
     "output_type": "display_data"
    },
    {
     "data": {
      "text/plain": [
       "修\t\n"
      ]
     },
     "execution_count": 3,
     "metadata": {},
     "output_type": "execute_result"
    },
    {
     "data": {
      "image/png": "[encoded data removed]",
      "text/plain": [
       "Console does not support images"
      ]
     },
     "metadata": {
      "image/png": {
       "height": 40,
       "width": 22
      }
     },
     "output_type": "display_data"
    },
    {
     "data": {
      "text/plain": [
       "大\t\n"
      ]
     },
     "execution_count": 3,
     "metadata": {},
     "output_type": "execute_result"
    },
    {
     "data": {
      "image/png": "[encoded data removed]",
      "text/plain": [
       "Console does not support images"
      ]
     },
     "metadata": {
      "image/png": {
       "height": 40,
       "width": 22
      }
     },
     "output_type": "display_data"
    },
    {
     "data": {
      "text/plain": [
       "润\t\n"
      ]
     },
     "execution_count": 3,
     "metadata": {},
     "output_type": "execute_result"
    },
    {
     "data": {
      "image/png": "[encoded data removed]",
      "text/plain": [
       "Console does not support images"
      ]
     },
     "metadata": {
      "image/png": {
       "height": 40,
       "width": 22
      }
     },
     "output_type": "display_data"
    },
    {
     "data": {
      "text/plain": [
       "含\t\n"
      ]
     },
     "execution_count": 3,
     "metadata": {},
     "output_type": "execute_result"
    },
    {
     "data": {
      "image/png": "[encoded data removed]",
      "text/plain": [
       "Console does not support images"
      ]
     },
     "metadata": {
      "image/png": {
       "height": 40,
       "width": 22
      }
     },
     "output_type": "display_data"
    },
    {
     "data": {
      "text/plain": [
       "鲸\t\n"
      ]
     },
     "execution_count": 3,
     "metadata": {},
     "output_type": "execute_result"
    },
    {
     "data": {
      "image/png": "[encoded data removed]",
      "text/plain": [
       "Console does not support images"
      ]
     },
     "metadata": {
      "image/png": {
       "height": 40,
       "width": 22
      }
     },
     "output_type": "display_data"
    },
    {
     "data": {
      "text/plain": [
       "添\t\n"
      ]
     },
     "execution_count": 3,
     "metadata": {},
     "output_type": "execute_result"
    },
    {
     "data": {
      "image/png": "[encoded data removed]",
      "text/plain": [
       "Console does not support images"
      ]
     },
     "metadata": {
      "image/png": {
       "height": 40,
       "width": 22
      }
     },
     "output_type": "display_data"
    },
    {
     "data": {
      "text/plain": [
       "蛇\t\n"
      ]
     },
     "execution_count": 3,
     "metadata": {},
     "output_type": "execute_result"
    },
    {
     "data": {
      "image/png": "[encoded data removed]",
      "text/plain": [
       "Console does not support images"
      ]
     },
     "metadata": {
      "image/png": {
       "height": 40,
       "width": 22
      }
     },
     "output_type": "display_data"
    },
    {
     "data": {
      "text/plain": [
       "举\t\n"
      ]
     },
     "execution_count": 3,
     "metadata": {},
     "output_type": "execute_result"
    },
    {
     "data": {
      "image/png": "[encoded data removed]",
      "text/plain": [
       "Console does not support images"
      ]
     },
     "metadata": {
      "image/png": {
       "height": 40,
       "width": 22
      }
     },
     "output_type": "display_data"
    },
    {
     "data": {
      "text/plain": [
       "愁\t\n"
      ]
     },
     "execution_count": 3,
     "metadata": {},
     "output_type": "execute_result"
    },
    {
     "data": {
      "image/png": "[encoded data removed]",
      "text/plain": [
       "Console does not support images"
      ]
     },
     "metadata": {
      "image/png": {
       "height": 40,
       "width": 22
      }
     },
     "output_type": "display_data"
    },
    {
     "data": {
      "text/plain": [
       "囊\t\n"
      ]
     },
     "execution_count": 3,
     "metadata": {},
     "output_type": "execute_result"
    },
    {
     "data": {
      "image/png": "[encoded data removed]",
      "text/plain": [
       "Console does not support images"
      ]
     },
     "metadata": {
      "image/png": {
       "height": 40,
       "width": 22
      }
     },
     "output_type": "display_data"
    },
    {
     "data": {
      "text/plain": [
       "时\t\n"
      ]
     },
     "execution_count": 3,
     "metadata": {},
     "output_type": "execute_result"
    },
    {
     "data": {
      "image/png": "[encoded data removed]",
      "text/plain": [
       "Console does not support images"
      ]
     },
     "metadata": {
      "image/png": {
       "height": 40,
       "width": 22
      }
     },
     "output_type": "display_data"
    },
    {
     "data": {
      "text/plain": [
       "霄\t\n"
      ]
     },
     "execution_count": 3,
     "metadata": {},
     "output_type": "execute_result"
    },
    {
     "data": {
      "image/png": "[encoded data removed]",
      "text/plain": [
       "Console does not support images"
      ]
     },
     "metadata": {
      "image/png": {
       "height": 40,
       "width": 22
      }
     },
     "output_type": "display_data"
    },
    {
     "data": {
      "text/plain": [
       "恭\t\n"
      ]
     },
     "execution_count": 3,
     "metadata": {},
     "output_type": "execute_result"
    },
    {
     "data": {
      "image/png": "[encoded data removed]",
      "text/plain": [
       "Console does not support images"
      ]
     },
     "metadata": {
      "image/png": {
       "height": 40,
       "width": 22
      }
     },
     "output_type": "display_data"
    }
   ],
   "source": [
    "require 'sys'\n",
    "decoder_util = require 'src.decoder'\n",
    "decoder = decoder_util.create('./trainpic/codec_type10.txt', 1)\n",
    "for i = 1, 50 do\n",
    "    index = math.random(1, fullset.size)\n",
    "    print(decoder.rev_mapper[fullset.label[index]])\n",
    "    itorch.image(fullset.data[index])\n",
    "    sys.sleep(0.1)\n",
    "end"
   ]
  }
 ],
 "metadata": {
  "kernelspec": {
   "display_name": "iTorch",
   "language": "lua",
   "name": "itorch"
  },
  "language_info": {
   "name": "lua",
   "version": "5.1"
  }
 },
 "nbformat": 4,
 "nbformat_minor": 0
}
